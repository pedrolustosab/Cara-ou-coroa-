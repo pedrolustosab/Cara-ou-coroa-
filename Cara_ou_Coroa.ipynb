{
 "cells": [
  {
   "cell_type": "code",
   "execution_count": 25,
   "metadata": {},
   "outputs": [],
   "source": [
    "# Importando a biblioteca\n",
    "import pandas as pd\n",
    "import matplotlib.pyplot as plt\n",
    "import seaborn as sns\n",
    "import numpy as np\n",
    "import scipy\n",
    "import itertools"
   ]
  },
  {
   "cell_type": "markdown",
   "metadata": {},
   "source": [
    "É interessante notar que, embora possa parecer surpreendente inicialmente, é bastante comum obter sequências de “caras” ou “coroas” ao lançar uma moeda várias vezes. Isso ocorre porque cada lançamento da moeda é um evento independente, o que significa que o resultado de um lançamento não afeta o resultado dos outros.\n"
   ]
  },
  {
   "cell_type": "code",
   "execution_count": 26,
   "metadata": {},
   "outputs": [
    {
     "name": "stdout",
     "output_type": "stream",
     "text": [
      "[[0 1 1 1 0 0 0 1 1 1]\n",
      " [0 1 1 0 0 0 0 1 0 0]\n",
      " [1 0 0 0 0 1 0 1 1 0]\n",
      " [1 0 0 1 1 1 0 0 1 0]\n",
      " [0 0 0 1 0 1 0 1 1 0]\n",
      " [1 1 1 1 1 1 0 0 0 0]\n",
      " [0 0 1 0 0 1 0 1 0 1]\n",
      " [1 0 0 1 1 1 1 0 0 0]\n",
      " [1 1 0 0 0 0 1 1 1 0]\n",
      " [0 1 1 1 1 0 1 0 0 0]\n",
      " [0 1 0 1 1 0 0 1 0 0]\n",
      " [0 0 1 1 1 1 1 0 1 1]\n",
      " [1 1 0 0 0 0 1 1 0 1]\n",
      " [0 0 0 0 1 0 1 1 0 1]\n",
      " [1 0 0 0 0 0 1 1 0 0]\n",
      " [1 0 0 0 1 0 1 1 0 1]\n",
      " [0 1 1 1 0 1 0 0 0 1]\n",
      " [1 0 1 0 1 0 1 0 1 0]\n",
      " [0 0 1 1 0 1 1 1 1 0]\n",
      " [0 1 1 1 0 0 1 1 1 1]]\n"
     ]
    }
   ],
   "source": [
    "# Definir a semente para replicabilidade\n",
    "np.random.seed(42)\n",
    "\n",
    "# Número de amostras\n",
    "num_amostras = 20\n",
    "\n",
    "# Número de lançamentos de moeda por amostra\n",
    "num_lancamentos = 10\n",
    "\n",
    "# Valores possíveis (0 para \"coroa\", 1 para \"cara\")\n",
    "valores = [0, 1]\n",
    "\n",
    "# Probabilidades para cada valor\n",
    "probs = [0.5, 0.5]\n",
    "\n",
    "# Gerar as amostras\n",
    "amostras = np.random.choice(valores, size=(num_amostras, num_lancamentos), p=probs)\n",
    "\n",
    "print(amostras)"
   ]
  },
  {
   "cell_type": "code",
   "execution_count": 30,
   "metadata": {},
   "outputs": [],
   "source": [
    "resultado_ber = scipy.stats.bernoulli.rvs(p=0.5, size=10)\n",
    "#resultado_ber[:20]"
   ]
  },
  {
   "cell_type": "code",
   "execution_count": 31,
   "metadata": {},
   "outputs": [
    {
     "data": {
      "text/plain": [
       "1    0.7\n",
       "0    0.3\n",
       "dtype: float64"
      ]
     },
     "execution_count": 31,
     "metadata": {},
     "output_type": "execute_result"
    }
   ],
   "source": [
    "pd.Series(resultado_ber).value_counts(normalize=True)"
   ]
  },
  {
   "cell_type": "code",
   "execution_count": 32,
   "metadata": {},
   "outputs": [
    {
     "name": "stderr",
     "output_type": "stream",
     "text": [
      "C:\\ProgramData\\Anaconda3\\lib\\site-packages\\seaborn\\_decorators.py:36: FutureWarning: Pass the following variable as a keyword arg: x. From version 0.12, the only valid positional argument will be `data`, and passing other arguments without an explicit keyword will result in an error or misinterpretation.\n",
      "  warnings.warn(\n"
     ]
    },
    {
     "data": {
      "image/png": "[encoded data removed]",
      "text/plain": [
       "<Figure size 640x480 with 1 Axes>"
      ]
     },
     "metadata": {},
     "output_type": "display_data"
    }
   ],
   "source": [
    "sns.countplot(resultado_ber);"
   ]
  },
  {
   "cell_type": "code",
   "execution_count": 17,
   "metadata": {},
   "outputs": [
    {
     "name": "stdout",
     "output_type": "stream",
     "text": [
      "Maior sequência de cara: 21\n",
      "Maior sequência de coroa: 17\n"
     ]
    }
   ],
   "source": [
    "def maior_sequencia_itertools(resultado_ber):\n",
    "    max_cara = max_cora = 0\n",
    "\n",
    "    for valor, grupo in itertools.groupby(resultado_ber):\n",
    "        sequencia = len(list(grupo))\n",
    "        if valor == 1:\n",
    "            max_cara = max(max_cara, sequencia)\n",
    "        else:\n",
    "            max_cora = max(max_cora, sequencia)\n",
    "\n",
    "    return max_cara, max_cora\n",
    "\n",
    "max_cara, max_cora = maior_sequencia_itertools(resultado_ber)\n",
    "print(f\"Maior sequência de cara: {max_cara}\")\n",
    "print(f\"Maior sequência de coroa: {max_cora}\")"
   ]
  },
  {
   "cell_type": "markdown",
   "metadata": {},
   "source": [
    "Se você lançar uma moeda justa 10 vezes, há uma chance de cerca de 0,001 ou 0,1% de obter “cara” em todos os dez lançamentos. No entanto, se você repetir esse experimento muitas vezes (como fizemos ao simular 20.000 pessoas lançando a moeda 10 vezes), é provável que você veja essa sequência “improvável” ocorrer em algumas das repetições.\n",
    "\n",
    "Isso é um lembrete de que, na probabilidade e estatística, eventos que podem parecer improváveis em um único experimento podem se tornar bastante comuns quando o experimento é repetido muitas vezes. É por isso que é tão importante entender os conceitos de probabilidade ao interpretar os resultados de um experimento ou estudo."
   ]
  },
  {
   "cell_type": "code",
   "execution_count": 21,
   "metadata": {},
   "outputs": [
    {
     "name": "stdout",
     "output_type": "stream",
     "text": [
      "Maior sequência de cara: 22\n",
      "Maior sequência de coroa: 18\n"
     ]
    }
   ],
   "source": [
    "np.random.seed(42)  # Definindo a semente\n",
    "resultado_ber = scipy.stats.bernoulli.rvs(p=0.5, size=1000000)\n",
    "\n",
    "def maior_sequencia_itertools(resultado_ber):\n",
    "    max_cara = max_cora = 0\n",
    "\n",
    "    for valor, grupo in itertools.groupby(resultado_ber):\n",
    "        sequencia = len(list(grupo))\n",
    "        if valor == 1:\n",
    "            max_cara = max(max_cara, sequencia)\n",
    "        else:\n",
    "            max_cora = max(max_cora, sequencia)\n",
    "\n",
    "    return max_cara, max_cora\n",
    "\n",
    "max_cara, max_cora = maior_sequencia_itertools(resultado_ber)\n",
    "print(f\"Maior sequência de cara: {max_cara}\")\n",
    "print(f\"Maior sequência de coroa: {max_cora}\")"
   ]
  },
  {
   "cell_type": "code",
   "execution_count": 34,
   "metadata": {},
   "outputs": [
    {
     "name": "stdout",
     "output_type": "stream",
     "text": [
      "Número de pessoas que obtiveram pelo menos 10 'caras': 15\n",
      "Probabilidade de obter pelo menos 10 'caras' em 10 lançamentos: 0.1%\n"
     ]
    }
   ],
   "source": [
    "from scipy.stats import binom\n",
    "# Definir a semente para replicabilidade\n",
    "np.random.seed(42)\n",
    "\n",
    "# Número de pessoas no estádio\n",
    "num_pessoas = 20000\n",
    "\n",
    "# Número de lançamentos de moeda por pessoa\n",
    "num_lancamentos = 10\n",
    "\n",
    "# Probabilidade de obter \"cara\" em um lançamento de moeda\n",
    "p_cara = 0.5\n",
    "\n",
    "# Simular os lançamentos de moeda para cada pessoa\n",
    "resultados = np.random.binomial(num_lancamentos, p_cara, num_pessoas)\n",
    "\n",
    "# Contar o número de pessoas que obtiveram pelo menos 10 \"caras\"\n",
    "num_sucessos = np.sum(resultados >= 10)\n",
    "\n",
    "# Calcular a probabilidade de obter pelo menos 10 \"caras\" usando a distribuição binomial\n",
    "p_sucesso = binom.pmf(10, num_lancamentos, p_cara)\n",
    "\n",
    "print(f\"Número de pessoas que obtiveram pelo menos {num_lancamentos} 'caras': {num_sucessos}\")\n",
    "print(f\"Probabilidade de obter pelo menos {num_lancamentos} 'caras' em {num_lancamentos} lançamentos: {p_sucesso:.1%}\")"
   ]
  }
 ],
 "metadata": {
  "kernelspec": {
   "display_name": "Python 3 (ipykernel)",
   "language": "python",
   "name": "python3"
  },
  "language_info": {
   "codemirror_mode": {
    "name": "ipython",
    "version": 3
   },
   "file_extension": ".py",
   "mimetype": "text/x-python",
   "name": "python",
   "nbconvert_exporter": "python",
   "pygments_lexer": "ipython3",
   "version": "3.9.13"
  }
 },
 "nbformat": 4,
 "nbformat_minor": 2
}
