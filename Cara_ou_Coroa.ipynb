{
 "cells": [
  {
   "cell_type": "markdown",
   "metadata": {},
   "source": [
    "# Simulação de Lançamentos de Moeda com Python\n",
    "\n",
    "Neste script, vamos explorar um fenômeno interessante na teoria da probabilidade usando a simulação de lançamentos de moeda com Python.\n",
    "\n",
    "Quando lançamos uma moeda justa várias vezes, intuitivamente, pode parecer que sequências de \"caras\" ou \"coroas\" seriam raras. Afinal, a probabilidade de obter \"cara\" ou \"coroa\" em cada lançamento é de 50%, então esperamos que os resultados se alternem regularmente.\n",
    "\n",
    "No entanto, a realidade é um pouco contra-intuitiva. Na verdade, em uma série de lançamentos de moeda, é comum obter sequências de \"caras\" ou \"coroas\". Isso ocorre porque cada lançamento de moeda é um evento independente, o que significa que o resultado de um lançamento não afeta o resultado do próximo.\n",
    "\n",
    "Neste script, vamos simular milhares de lançamentos de moeda e observar a frequência de várias sequências de \"caras\" ou \"coroas\". O objetivo é demonstrar que, embora possa parecer surpreendente, sequências de resultados iguais são, na verdade, um resultado esperado da aleatoriedade."
   ]
  },
  {
   "cell_type": "code",
   "execution_count": 1,
   "metadata": {},
   "outputs": [],
   "source": [
    "# Importando a biblioteca\n",
    "import pandas as pd\n",
    "import matplotlib.pyplot as plt\n",
    "import seaborn as sns\n",
    "import numpy as np\n",
    "import scipy\n",
    "import itertools\n",
    "import warnings\n"
   ]
  },
  {
   "cell_type": "markdown",
   "metadata": {},
   "source": [
    "# Simulação de Lançamentos de Moeda\n",
    "\n",
    "Para começar, escreva uma sequência aleatória de 20 registros de 0s e 1s. Cada número na sequência representa o resultado de um lançamento de moeda, onde 1 representa \"cara\" e 0 representa \"coroa\". \n",
    "\n",
    "Agora, vamos simular 20 amostras de 10 lançamentos de moeda cada. Cada amostra representará uma sequência de 10 lançamentos de moeda, e vamos analisar a distribuição dos resultados em todas as 20 amostras.\n",
    "\n",
    "\n"
   ]
  },
  {
   "cell_type": "code",
   "execution_count": 2,
   "metadata": {},
   "outputs": [
    {
     "name": "stdout",
     "output_type": "stream",
     "text": [
      "[[0 1 1 1 0 0 0 1 1 1]\n",
      " [0 1 1 0 0 0 0 1 0 0]\n",
      " [1 0 0 0 0 1 0 1 1 0]\n",
      " [1 0 0 1 1 1 0 0 1 0]\n",
      " [0 0 0 1 0 1 0 1 1 0]\n",
      " [1 1 1 1 1 1 0 0 0 0]\n",
      " [0 0 1 0 0 1 0 1 0 1]\n",
      " [1 0 0 1 1 1 1 0 0 0]\n",
      " [1 1 0 0 0 0 1 1 1 0]\n",
      " [0 1 1 1 1 0 1 0 0 0]\n",
      " [0 1 0 1 1 0 0 1 0 0]\n",
      " [0 0 1 1 1 1 1 0 1 1]\n",
      " [1 1 0 0 0 0 1 1 0 1]\n",
      " [0 0 0 0 1 0 1 1 0 1]\n",
      " [1 0 0 0 0 0 1 1 0 0]\n",
      " [1 0 0 0 1 0 1 1 0 1]\n",
      " [0 1 1 1 0 1 0 0 0 1]\n",
      " [1 0 1 0 1 0 1 0 1 0]\n",
      " [0 0 1 1 0 1 1 1 1 0]\n",
      " [0 1 1 1 0 0 1 1 1 1]]\n"
     ]
    }
   ],
   "source": [
    "# Definir a semente para replicabilidade\n",
    "np.random.seed(42)\n",
    "\n",
    "# Número de amostras\n",
    "num_amostras = 20\n",
    "\n",
    "# Número de lançamentos de moeda por amostra\n",
    "num_lancamentos = 10\n",
    "\n",
    "# Valores possíveis (0 para \"coroa\", 1 para \"cara\")\n",
    "valores = [0, 1]\n",
    "\n",
    "# Probabilidades para cada valor\n",
    "probs = [0.5, 0.5]\n",
    "\n",
    "# Gerar as amostras\n",
    "amostras = np.random.choice(valores, size=(num_amostras, num_lancamentos), p=probs)\n",
    "\n",
    "print(amostras)"
   ]
  },
  {
   "cell_type": "code",
   "execution_count": 7,
   "metadata": {},
   "outputs": [],
   "source": [
    "def maior_sequencia(resultado_ber):\n",
    "    \"\"\"\n",
    "    Esta função calcula a maior sequência de \"caras\" (1s) e \"coroas\" (0s) em uma lista de resultados de lançamentos de moeda.\n",
    "    \n",
    "    A função usa a função `groupby` da biblioteca `itertools` para agrupar sequências consecutivas de 1s e 0s. Para cada grupo, ela calcula o comprimento da sequência e verifica se é a maior sequência de \"caras\" ou \"coroas\" encontrada até agora.\n",
    "    \n",
    "    Parâmetros:\n",
    "    resultado_ber (list): Uma lista de 0s e 1s representando os resultados de lançamentos de moeda.\n",
    "    \n",
    "    Retorna:\n",
    "    max_cara (int): O comprimento da maior sequência de \"caras\" (1s).\n",
    "    max_cora (int): O comprimento da maior sequência de \"coroas\" (0s).\n",
    "    \"\"\"\n",
    "    max_cara = max_cora = 0\n",
    "\n",
    "    for valor, grupo in itertools.groupby(resultado_ber):\n",
    "        sequencia = len(list(grupo))\n",
    "        if valor == 1:\n",
    "            max_cara = max(max_cara, sequencia)\n",
    "        else:\n",
    "            max_cora = max(max_cora, sequencia)\n",
    "\n",
    "    return max_cara, max_cora"
   ]
  },
  {
   "cell_type": "code",
   "execution_count": 8,
   "metadata": {},
   "outputs": [
    {
     "name": "stdout",
     "output_type": "stream",
     "text": [
      "Linha 1:\n",
      "Maior sequência de cara: 3\n",
      "Maior sequência de coroa: 3\n",
      "\n",
      "Linha 2:\n",
      "Maior sequência de cara: 2\n",
      "Maior sequência de coroa: 4\n",
      "\n",
      "Linha 3:\n",
      "Maior sequência de cara: 2\n",
      "Maior sequência de coroa: 4\n",
      "\n",
      "Linha 4:\n",
      "Maior sequência de cara: 3\n",
      "Maior sequência de coroa: 2\n",
      "\n",
      "Linha 5:\n",
      "Maior sequência de cara: 2\n",
      "Maior sequência de coroa: 3\n",
      "\n",
      "Linha 6:\n",
      "Maior sequência de cara: 6\n",
      "Maior sequência de coroa: 4\n",
      "\n",
      "Linha 7:\n",
      "Maior sequência de cara: 1\n",
      "Maior sequência de coroa: 2\n",
      "\n",
      "Linha 8:\n",
      "Maior sequência de cara: 4\n",
      "Maior sequência de coroa: 3\n",
      "\n",
      "Linha 9:\n",
      "Maior sequência de cara: 3\n",
      "Maior sequência de coroa: 4\n",
      "\n",
      "Linha 10:\n",
      "Maior sequência de cara: 4\n",
      "Maior sequência de coroa: 3\n",
      "\n",
      "Linha 11:\n",
      "Maior sequência de cara: 2\n",
      "Maior sequência de coroa: 2\n",
      "\n",
      "Linha 12:\n",
      "Maior sequência de cara: 5\n",
      "Maior sequência de coroa: 2\n",
      "\n",
      "Linha 13:\n",
      "Maior sequência de cara: 2\n",
      "Maior sequência de coroa: 4\n",
      "\n",
      "Linha 14:\n",
      "Maior sequência de cara: 2\n",
      "Maior sequência de coroa: 4\n",
      "\n",
      "Linha 15:\n",
      "Maior sequência de cara: 2\n",
      "Maior sequência de coroa: 5\n",
      "\n",
      "Linha 16:\n",
      "Maior sequência de cara: 2\n",
      "Maior sequência de coroa: 3\n",
      "\n",
      "Linha 17:\n",
      "Maior sequência de cara: 3\n",
      "Maior sequência de coroa: 3\n",
      "\n",
      "Linha 18:\n",
      "Maior sequência de cara: 1\n",
      "Maior sequência de coroa: 1\n",
      "\n",
      "Linha 19:\n",
      "Maior sequência de cara: 4\n",
      "Maior sequência de coroa: 2\n",
      "\n",
      "Linha 20:\n",
      "Maior sequência de cara: 4\n",
      "Maior sequência de coroa: 2\n",
      "\n"
     ]
    }
   ],
   "source": [
    "# Aplicar a função a cada linha\n",
    "for i, linha in enumerate(amostras):\n",
    "    max_cara, max_cora = maior_sequencia(linha)\n",
    "    print(f\"Linha {i+1}:\")\n",
    "    print(f\"Maior sequência de cara: {max_cara}\")\n",
    "    print(f\"Maior sequência de coroa: {max_cora}\")\n",
    "    print()"
   ]
  },
  {
   "cell_type": "markdown",
   "metadata": {},
   "source": [
    "# Viés de Amostragem e Tamanho da Amostra\n",
    "\n",
    "O viés de amostragem ocorre quando a amostra coletada para um estudo não é representativa da população total que o estudo pretende analisar. Isso pode acontecer por várias razões, incluindo a maneira como a amostra é selecionada ou o tamanho da amostra.\n",
    "\n",
    "O tamanho da amostra pode influenciar o viés de amostragem de várias maneiras:\n",
    "\n",
    "1. **Amostras Pequenas**: Amostras muito pequenas têm maior probabilidade de serem não representativas da população como um todo. Isso ocorre porque há uma maior chance de que características específicas ou outliers na população sejam super ou sub-representados na amostra.\n",
    "\n",
    "2. **Amostras Grandes**: Embora amostras maiores tendam a ser mais representativas da população, elas também podem introduzir viés se a taxa de resposta for baixa ou se certos grupos estiverem menos propensos a responder. Por exemplo, em uma pesquisa online, pessoas sem acesso à internet ou que não são confortáveis com tecnologia podem ser sub-representadas.\n",
    "\n",
    "3. **Efeito do Tamanho da Amostra na Estatística**: O tamanho da amostra também afeta a precisão das estimativas estatísticas. Em geral, estimativas baseadas em amostras maiores tendem a ser mais precisas (ou seja, têm menor erro padrão) do que aquelas baseadas em amostras menores.\n",
    "\n",
    "Portanto, ao projetar um estudo ou experimento, é importante considerar cuidadosamente o tamanho da amostra para minimizar o viés de amostragem e garantir que os resultados sejam o mais precisos e representativos possível. Além disso, técnicas estatísticas, como ponderação ou estratificação, podem ser usadas para corrigir o viés de amostragem em alguns casos.\n"
   ]
  },
  {
   "cell_type": "code",
   "execution_count": 11,
   "metadata": {},
   "outputs": [
    {
     "name": "stdout",
     "output_type": "stream",
     "text": [
      "\n",
      "Distribuição para tamanho de amostra 10:\n",
      "1    0.6\n",
      "0    0.4\n",
      "dtype: float64\n"
     ]
    },
    {
     "data": {
      "image/png": "[encoded data removed]",
      "text/plain": [
       "<Figure size 640x480 with 1 Axes>"
      ]
     },
     "metadata": {},
     "output_type": "display_data"
    },
    {
     "name": "stdout",
     "output_type": "stream",
     "text": [
      "\n",
      "Distribuição para tamanho de amostra 100:\n",
      "0    0.55\n",
      "1    0.45\n",
      "dtype: float64\n"
     ]
    },
    {
     "data": {
      "image/png": "[encoded data removed]",
      "text/plain": [
       "<Figure size 640x480 with 1 Axes>"
      ]
     },
     "metadata": {},
     "output_type": "display_data"
    },
    {
     "name": "stdout",
     "output_type": "stream",
     "text": [
      "\n",
      "Distribuição para tamanho de amostra 1000:\n",
      "1    0.505\n",
      "0    0.495\n",
      "dtype: float64\n"
     ]
    },
    {
     "data": {
      "image/png": "[encoded data removed]",
      "text/plain": [
       "<Figure size 640x480 with 1 Axes>"
      ]
     },
     "metadata": {},
     "output_type": "display_data"
    },
    {
     "name": "stdout",
     "output_type": "stream",
     "text": [
      "\n",
      "Distribuição para tamanho de amostra 1000000:\n",
      "1    0.500544\n",
      "0    0.499456\n",
      "dtype: float64\n"
     ]
    },
    {
     "data": {
      "image/png": "[encoded data removed]",
      "text/plain": [
       "<Figure size 640x480 with 1 Axes>"
      ]
     },
     "metadata": {},
     "output_type": "display_data"
    }
   ],
   "source": [
    "import warnings\n",
    "warnings.filterwarnings('ignore')\n",
    "\n",
    "import scipy.stats\n",
    "import pandas as pd\n",
    "import seaborn as sns\n",
    "import matplotlib.pyplot as plt\n",
    "import numpy as np\n",
    "\n",
    "# Definir a semente do gerador de números aleatórios\n",
    "np.random.seed(42)\n",
    "\n",
    "# Lista de tamanhos de amostra\n",
    "sizes = [10, 100, 1000, 1000000]\n",
    "\n",
    "# Dicionário para armazenar os resultados\n",
    "resultados = {}\n",
    "\n",
    "# Loop sobre os tamanhos de amostra\n",
    "for size in sizes:\n",
    "    # Gerar amostra de Bernoulli\n",
    "    resultado_ber = scipy.stats.bernoulli.rvs(p=0.5, size=size)\n",
    "    \n",
    "    # Armazenar o resultado no dicionário\n",
    "    resultados[size] = resultado_ber\n",
    "\n",
    "    # Contagem de valores\n",
    "    print(f\"\\nDistribuição para tamanho de amostra {size}:\")\n",
    "    print(pd.Series(resultado_ber).value_counts(normalize=True))\n",
    "\n",
    "    # Gráfico de contagem\n",
    "    sns.countplot(resultado_ber)\n",
    "    plt.show()\n"
   ]
  },
  {
   "cell_type": "markdown",
   "metadata": {},
   "source": [
    "# Lei dos Grandes Números\n",
    "\n",
    "A \"lei dos grandes números\" é um princípio fundamental da probabilidade e estatística. Ela afirma que, à medida que o número de experimentos aumenta, a média dos resultados obtidos se aproxima da expectativa teórica.\n",
    "\n",
    "No caso do lançamento de uma moeda, embora a probabilidade de obter \"cara\" em 10 lançamentos consecutivos seja baixa (0,1%), se repetirmos esse experimento muitas vezes (por exemplo, 100.000 vezes), é provável que vejamos essa sequência \"improvável\" ocorrer em algumas das repetições.\n",
    "\n",
    "Isso demonstra que eventos que podem parecer improváveis em um único experimento podem se tornar bastante comuns quando o experimento é repetido muitas vezes. Portanto, é crucial entender os conceitos de probabilidade ao interpretar os resultados de um experimento ou estudo.\n"
   ]
  },
  {
   "cell_type": "code",
   "execution_count": 14,
   "metadata": {},
   "outputs": [
    {
     "name": "stdout",
     "output_type": "stream",
     "text": [
      "Número de pessoas que obtiveram pelo menos 10 'caras': 86\n",
      "Probabilidade de obter pelo menos 10 'caras' em 10 lançamentos: 0.1%\n"
     ]
    }
   ],
   "source": [
    "from scipy.stats import binom\n",
    "# Definir a semente para replicabilidade\n",
    "np.random.seed(42)\n",
    "\n",
    "# Número de pessoas no estádio\n",
    "num_pessoas = 100000\n",
    "\n",
    "# Número de lançamentos de moeda por pessoa\n",
    "num_lancamentos = 10\n",
    "\n",
    "# Probabilidade de obter \"cara\" em um lançamento de moeda\n",
    "p_cara = 0.5\n",
    "\n",
    "# Simular os lançamentos de moeda para cada pessoa\n",
    "resultados = np.random.binomial(num_lancamentos, p_cara, num_pessoas)\n",
    "\n",
    "# Contar o número de pessoas que obtiveram pelo menos 10 \"caras\"\n",
    "num_sucessos = np.sum(resultados >= 10)\n",
    "\n",
    "# Calcular a probabilidade de obter pelo menos 10 \"caras\" usando a distribuição binomial\n",
    "p_sucesso = binom.pmf(10, num_lancamentos, p_cara)\n",
    "\n",
    "print(f\"Número de pessoas que obtiveram pelo menos {num_lancamentos} 'caras': {num_sucessos}\")\n",
    "print(f\"Probabilidade de obter pelo menos {num_lancamentos} 'caras' em {num_lancamentos} lançamentos: {p_sucesso:.1%}\")"
   ]
  }
 ],
 "metadata": {
  "kernelspec": {
   "display_name": "Python 3 (ipykernel)",
   "language": "python",
   "name": "python3"
  },
  "language_info": {
   "codemirror_mode": {
    "name": "ipython",
    "version": 3
   },
   "file_extension": ".py",
   "mimetype": "text/x-python",
   "name": "python",
   "nbconvert_exporter": "python",
   "pygments_lexer": "ipython3",
   "version": "3.9.13"
  }
 },
 "nbformat": 4,
 "nbformat_minor": 2
}
